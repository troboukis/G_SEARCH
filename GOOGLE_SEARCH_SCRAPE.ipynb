{
 "cells": [
  {
   "cell_type": "code",
   "execution_count": 1,
   "metadata": {},
   "outputs": [],
   "source": [
    "import pandas as pd\n",
    "import numpy as np\n",
    "import re\n",
    "from datetime import date"
   ]
  },
  {
   "cell_type": "code",
   "execution_count": 2,
   "metadata": {},
   "outputs": [
    {
     "name": "stderr",
     "output_type": "stream",
     "text": [
      "/Users/viceproduction/.pyenv/versions/3.6.4/lib/python3.6/site-packages/ipykernel_launcher.py:8: UserWarning: Warning Simulation\n",
      "  \n"
     ]
    }
   ],
   "source": [
    "from requests import get\n",
    "from bs4 import BeautifulSoup\n",
    "import warnings\n",
    "from time import sleep\n",
    "from random import randint\n",
    "from time import time\n",
    "timestart_time = time()\n",
    "warnings.warn('Warning Simulation')\n",
    "from IPython.core.display import clear_output"
   ]
  },
  {
   "cell_type": "code",
   "execution_count": 3,
   "metadata": {},
   "outputs": [],
   "source": [
    "from selenium import webdriver\n",
    "from selenium.webdriver.common.keys import Keys\n",
    "from selenium.webdriver.support.ui import Select\n",
    "from selenium.webdriver.support.ui import WebDriverWait\n",
    "from selenium.common.exceptions import NoSuchElementException"
   ]
  },
  {
   "cell_type": "code",
   "execution_count": 4,
   "metadata": {},
   "outputs": [],
   "source": [
    "url='https://www.google.com/search?biw=1280&bih=666&tbs=cdr%3A1%2Ccd_min%3A1%2F31%2F2019%2Ccd_max%3A11%2F17%2F2019&tbm=nws&sxsrf=ACYBGNTglE7oldD0-y4p6YCgn2dqnP3X-A%3A1573979008321&ei=gAPRXfKZE4nXkwXyl5_YDA&q=%27%CE%A4.%CE%9F%CE%9C.%CE%A5.%27+%7C+%27%CE%A4%CE%9F.%CE%9C.%CE%A5.%27+%7C+%27%CE%A4%CE%9F%CE%9C%CE%A5%27+%7C+%27%CE%A4%CE%BF%CF%80%CE%B9%CE%BA%CE%AD%CF%82+%CE%9F%CE%BC%CE%AC%CE%B4%CE%B5%CF%82+%CE%A5%CE%B3%CE%B5%CE%AF%CE%B1%CF%82%27+%7C+%27%CE%A4%CE%BF%CF%80%CE%B9%CE%BA%CE%AD%CF%82+%CE%9C%CE%BF%CE%BD%CE%AC%CE%B4%CE%B5%CF%82+%CE%A5%CE%B3%CE%B5%CE%AF%CE%B1%CF%82%27&oq=%27%CE%A4.%CE%9F%CE%9C.%CE%A5.%27+%7C+%27%CE%A4%CE%9F.%CE%9C.%CE%A5.%27+%7C+%27%CE%A4%CE%9F%CE%9C%CE%A5%27+%7C+%27%CE%A4%CE%BF%CF%80%CE%B9%CE%BA%CE%AD%CF%82+%CE%9F%CE%BC%CE%AC%CE%B4%CE%B5%CF%82+%CE%A5%CE%B3%CE%B5%CE%AF%CE%B1%CF%82%27+%7C+%27%CE%A4%CE%BF%CF%80%CE%B9%CE%BA%CE%AD%CF%82+%CE%9C%CE%BF%CE%BD%CE%AC%CE%B4%CE%B5%CF%82+%CE%A5%CE%B3%CE%B5%CE%AF%CE%B1%CF%82%27&gs_l=psy-ab.4...17887.27045.0.28311.11.11.0.0.0.0.142.1138.1j8.9.0....0...1c.1j4.64.psy-ab..2.0.0....0.FYF4w5ECuLc'"
   ]
  },
  {
   "cell_type": "code",
   "execution_count": 5,
   "metadata": {},
   "outputs": [],
   "source": [
    "#  Οι όροι αναζήτησης\n",
    "# 'Τ.ΟΜ.Υ.' | 'ΤΟ.Μ.Υ.' | 'ΤΟΜΥ' | 'Τοπικές Ομάδες Υγείας' | 'Τοπικές Μονάδες Υγείας'"
   ]
  },
  {
   "cell_type": "code",
   "execution_count": 6,
   "metadata": {},
   "outputs": [],
   "source": [
    "driver=webdriver.Chrome()\n",
    "driver.get(url)"
   ]
  },
  {
   "cell_type": "code",
   "execution_count": 8,
   "metadata": {},
   "outputs": [
    {
     "name": "stdout",
     "output_type": "stream",
     "text": [
      "24\n"
     ]
    }
   ],
   "source": [
    "results_list=[]\n",
    "pageCounter=0\n",
    "numb_pages=24\n",
    "\n",
    "while (pageCounter < numb_pages):\n",
    "# We parse the content of each page\n",
    "    doc = BeautifulSoup(driver.page_source, \"html.parser\")\n",
    "    result_page=doc.find(id='search')\n",
    "    news=result_page.findAll('div', attrs={'class':'g'})\n",
    "    \n",
    "    for new in news:\n",
    "        main_items={}\n",
    "        main_items['title']=new.h3.text\n",
    "        main_items['description']=new.find('div',attrs={'class':'st'}).text\n",
    "        main_items['media']=new.findAll('span')[0].text\n",
    "        main_items['date']=new.findAll('span')[2].text\n",
    "        main_items['href']=new.a.get('href')\n",
    "\n",
    "        results_list.append(main_items)\n",
    "        if new.find('div',attrs={'class':'YiHbdc card-section'}) is not None:\n",
    "            sub_news=new.findAll('div',attrs={'class':'YiHbdc card-section'})\n",
    "            for sub in sub_news:\n",
    "                items={}\n",
    "                items['title']=sub.a.text\n",
    "                items['description']='Sub news - No description'\n",
    "                items['media']=sub.span.text\n",
    "                items['date']=sub.findAll('span')[2].text\n",
    "                items['href']=sub.a.get('href')\n",
    "                results_list.append(items)\n",
    "    pageCounter+=1\n",
    "    driver.find_element_by_id('pnnext').click()\n",
    "    \n",
    "    print(pageCounter)\n",
    "    clear_output(wait=True)"
   ]
  },
  {
   "cell_type": "code",
   "execution_count": 9,
   "metadata": {},
   "outputs": [],
   "source": [
    "pd.DataFrame(results_list).to_csv('TOMY.CSV',index=False, encoding='utf-8')"
   ]
  },
  {
   "cell_type": "code",
   "execution_count": 10,
   "metadata": {},
   "outputs": [],
   "source": [
    "df=pd.read_csv('TOMY.CSV')"
   ]
  },
  {
   "cell_type": "code",
   "execution_count": 11,
   "metadata": {},
   "outputs": [],
   "source": [
    "from dateutil.parser import parse"
   ]
  },
  {
   "cell_type": "code",
   "execution_count": 12,
   "metadata": {},
   "outputs": [],
   "source": [
    "def parse_date(date):\n",
    "    return(parse(date))"
   ]
  },
  {
   "cell_type": "code",
   "execution_count": 17,
   "metadata": {
    "scrolled": true
   },
   "outputs": [],
   "source": [
    "df['parsed_date']=pd.to_datetime(df['date'].apply(lambda x: parse_date(x)))"
   ]
  },
  {
   "cell_type": "code",
   "execution_count": 18,
   "metadata": {},
   "outputs": [],
   "source": [
    "df['month']=df.parsed_date.dt.month"
   ]
  },
  {
   "cell_type": "code",
   "execution_count": 19,
   "metadata": {},
   "outputs": [],
   "source": [
    "df.sort_values(by='parsed_date').to_csv('TOMY_with_dates.CSV',index=False, encoding='utf-8')"
   ]
  },
  {
   "cell_type": "code",
   "execution_count": null,
   "metadata": {},
   "outputs": [],
   "source": []
  },
  {
   "cell_type": "code",
   "execution_count": null,
   "metadata": {},
   "outputs": [],
   "source": []
  }
 ],
 "metadata": {
  "kernelspec": {
   "display_name": "Python 3",
   "language": "python",
   "name": "python3"
  },
  "language_info": {
   "codemirror_mode": {
    "name": "ipython",
    "version": 3
   },
   "file_extension": ".py",
   "mimetype": "text/x-python",
   "name": "python",
   "nbconvert_exporter": "python",
   "pygments_lexer": "ipython3",
   "version": "3.6.4"
  }
 },
 "nbformat": 4,
 "nbformat_minor": 2
}
